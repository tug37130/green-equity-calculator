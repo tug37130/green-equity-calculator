{
 "cells": [
  {
   "cell_type": "code",
   "execution_count": 1,
   "id": "ba84933d-9dc7-432f-b810-1a84b1ee06f2",
   "metadata": {},
   "outputs": [
    {
     "name": "stdout",
     "output_type": "stream",
     "text": [
      "C:\\Users\\tul18813\\Desktop\\BigGeo\\AppDev\\data\n"
     ]
    }
   ],
   "source": [
    "cd C:\\Users\\tul18813\\Desktop\\BigGeo\\AppDev\\data"
   ]
  },
  {
   "cell_type": "code",
   "execution_count": 9,
   "id": "fc03d070-831d-4092-b706-b755ec3023f1",
   "metadata": {},
   "outputs": [
    {
     "name": "stdout",
     "output_type": "stream",
     "text": [
      " Volume in drive C is Windows\n",
      " Volume Serial Number is D2FF-7C7B\n",
      "\n",
      " Directory of C:\\Users\\tul18813\\Desktop\\BigGeo\\AppDev\\data\n",
      "\n",
      "02/21/2024  07:32 PM    <DIR>          .\n",
      "02/21/2024  07:32 PM    <DIR>          ..\n",
      "02/12/2024  11:00 PM    <DIR>          .ipynb_checkpoints\n",
      "02/21/2024  07:09 PM                 5 cb_2022_us_tract_500k.cpg\n",
      "02/21/2024  07:09 PM        40,463,325 cb_2022_us_tract_500k.dbf\n",
      "02/21/2024  07:09 PM               165 cb_2022_us_tract_500k.prj\n",
      "02/21/2024  07:09 PM        82,323,812 cb_2022_us_tract_500k.shp\n",
      "02/21/2024  07:09 PM            22,098 cb_2022_us_tract_500k.shp.ea.iso.xml\n",
      "02/21/2024  07:09 PM            47,324 cb_2022_us_tract_500k.shp.iso.xml\n",
      "02/21/2024  07:09 PM           681,580 cb_2022_us_tract_500k.shx\n",
      "02/12/2024  04:48 PM            12,794 nlcd_tcc_conus_2021_v2021-4.aux\n",
      "02/12/2024  04:48 PM     3,740,410,153 nlcd_tcc_conus_2021_v2021-4.tif\n",
      "02/12/2024  04:48 PM            28,721 nlcd_tcc_conus_2021_v2021-4.tif.aux.xml\n",
      "02/12/2024  04:48 PM            50,081 nlcd_tcc_conus_2021_v2021-4.tif.html\n",
      "02/12/2024  04:48 PM            32,153 nlcd_tcc_conus_2021_v2021-4.tif.xml\n",
      "02/12/2024  04:48 PM            19,423 nlcd_tcc_conus_v2021-4_supplemental_metadata.txt\n",
      "02/13/2024  08:27 PM                 5 panj.cpg\n",
      "02/13/2024  08:27 PM               892 panj.dbf\n",
      "02/13/2024  08:27 PM               459 panj.prj\n",
      "02/13/2024  08:27 PM             1,063 panj.qmd\n",
      "02/13/2024  08:27 PM           382,012 panj.shp\n",
      "02/13/2024  08:27 PM               116 panj.shx\n",
      "02/13/2024  08:29 PM       224,685,687 panjras.tif\n",
      "02/13/2024  08:29 PM            28,721 panjras.tif.aux.xml\n",
      "02/13/2024  07:44 PM                 5 penn.cpg\n",
      "02/13/2024  07:44 PM               703 penn.dbf\n",
      "02/13/2024  07:44 PM               459 penn.prj\n",
      "02/13/2024  07:44 PM             1,063 penn.qmd\n",
      "02/13/2024  07:44 PM           255,820 penn.shp\n",
      "02/13/2024  07:44 PM               108 penn.shx\n",
      "02/13/2024  07:46 PM       191,779,269 pennras.tif\n",
      "02/13/2024  07:46 PM            28,721 pennras.tif.aux.xml\n",
      "02/13/2024  12:29 AM            12,362 stateg.dbf\n",
      "02/13/2024  12:29 AM               812 stateg.qix\n",
      "02/13/2024  12:29 AM        15,520,640 stateg.shp\n",
      "02/13/2024  07:20 PM            11,098 states.dbf\n",
      "02/13/2024  07:20 PM               459 states.prj\n",
      "02/13/2024  07:20 PM        15,520,640 states.shp\n",
      "02/13/2024  07:20 PM               548 states.shx\n",
      "02/12/2024  11:58 PM    <DIR>          tl_2023_us_state\n",
      "02/21/2024  07:32 PM        40,463,325 tracts.dbf\n",
      "02/21/2024  07:32 PM               459 tracts.prj\n",
      "02/21/2024  07:32 PM        82,323,812 tracts.shp\n",
      "02/21/2024  07:32 PM           681,580 tracts.shx\n",
      "              40 File(s)  4,435,792,472 bytes\n",
      "               4 Dir(s)  130,728,210,432 bytes free\n"
     ]
    }
   ],
   "source": [
    "ls"
   ]
  },
  {
   "cell_type": "code",
   "execution_count": 2,
   "id": "5cc31ad2-cee7-4e74-9898-da052ac90abf",
   "metadata": {},
   "outputs": [],
   "source": [
    "import rasterio\n",
    "import fiona"
   ]
  },
  {
   "cell_type": "code",
   "execution_count": 3,
   "id": "0904188e-f2b5-4c7b-9adb-2659f5506f44",
   "metadata": {},
   "outputs": [],
   "source": [
    "nlcd_file = 'nlcd_tcc_conus_2021_v2021-4.tif'\n",
    "nlcd_dataset = rasterio.open(nlcd_file)"
   ]
  },
  {
   "cell_type": "code",
   "execution_count": 10,
   "id": "cbc4c796-9554-46e6-a961-b0eee86cbb0a",
   "metadata": {},
   "outputs": [],
   "source": [
    "import geopandas as gpd\n",
    "\n",
    "tracts_shapefile = 'tracts.shp'\n",
    "tracts_gdf = gpd.read_file(tracts_shapefile)"
   ]
  },
  {
   "cell_type": "code",
   "execution_count": 28,
   "id": "72ad75cd-e328-4d66-a8f4-52d0d8a49be4",
   "metadata": {},
   "outputs": [
    {
     "name": "stdin",
     "output_type": "stream",
     "text": [
      "Enter the name of the tract:  997.03\n"
     ]
    }
   ],
   "source": [
    "tract_name = input(\"Enter the name of the tract: \")\n",
    "\n",
    "# Filter the states GeoDataFrame based on the user input\n",
    "selected_tract = tracts_gdf[tracts_gdf['NAME'] == tract_name]"
   ]
  },
  {
   "cell_type": "code",
   "execution_count": 29,
   "id": "eba1dd16-a2ca-4403-90f3-81f6c36eaf4c",
   "metadata": {},
   "outputs": [],
   "source": [
    "from rasterio.mask import mask\n",
    "\n",
    "# Extract the geometry of the selected state\n",
    "geometry = selected_tract.geometry.values[0]\n",
    "\n",
    "# Clip the NLCD dataset based on the geometry of the selected state\n",
    "clipped_nlcd, _ = mask(nlcd_dataset, [geometry], crop=True)"
   ]
  },
  {
   "cell_type": "code",
   "execution_count": 30,
   "id": "3af09cce-e35a-48f9-83f5-06b1bf98247d",
   "metadata": {},
   "outputs": [
    {
     "data": {
      "image/png": "[encoded data removed]",
      "text/plain": [
       "<Figure size 800x800 with 1 Axes>"
      ]
     },
     "metadata": {},
     "output_type": "display_data"
    }
   ],
   "source": [
    "import matplotlib.pyplot as plt\n",
    "from rasterio.plot import show\n",
    "\n",
    "# Create a new figure and axis\n",
    "fig, ax = plt.subplots(figsize=(8, 8))\n",
    "\n",
    "# Visualize the clipped NLCD data\n",
    "show(clipped_nlcd, ax=ax, cmap='Greens')\n",
    "\n",
    "# Add title\n",
    "ax.set_title('Tree Canopy Cover for {}'.format(state_name))\n",
    "ax.set_xlabel('Longitude')\n",
    "ax.set_ylabel('Latitude')\n",
    "\n",
    "# Show the plot\n",
    "plt.show()"
   ]
  },
  {
   "cell_type": "code",
   "execution_count": null,
   "id": "eeb2d629-68ba-4995-9dce-d4b7501695ae",
   "metadata": {},
   "outputs": [],
   "source": []
  }
 ],
 "metadata": {
  "kernelspec": {
   "display_name": "Python 3 (ipykernel)",
   "language": "python",
   "name": "python3"
  },
  "language_info": {
   "codemirror_mode": {
    "name": "ipython",
    "version": 3
   },
   "file_extension": ".py",
   "mimetype": "text/x-python",
   "name": "python",
   "nbconvert_exporter": "python",
   "pygments_lexer": "ipython3",
   "version": "3.9.18"
  }
 },
 "nbformat": 4,
 "nbformat_minor": 5
}
