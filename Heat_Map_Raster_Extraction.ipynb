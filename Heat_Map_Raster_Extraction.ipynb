{
 "cells": [
  {
   "cell_type": "code",
   "execution_count": 63,
   "id": "942d376c-d182-49fe-b79f-23e478a42f73",
   "metadata": {},
   "outputs": [],
   "source": [
    "## https://planetarycomputer.microsoft.com/dataset/noaa-nclimgrid-monthly\n",
    "\n",
    "import os, os.path\n",
    "from pystac_client import Client\n",
    "import planetary_computer as pc\n",
    "import rioxarray\n",
    "import rasterio as rio\n",
    "import fiona\n",
    "import pyproj\n",
    "from shapely.geometry import shape, Point, Polygon, mapping\n",
    "from functools import partial\n",
    "from shapely.ops import transform\n",
    "import urllib.request\n",
    "import numpy as np\n",
    "import geopandas as gpd\n",
    "import pyproj\n",
    "import rich\n",
    "# Set the environment variable PC_SDK_SUBSCRIPTION_KEY, or set it here.\n",
    "# The Hub sets PC_SDK_SUBSCRIPTION_KEY automatically.\n",
    "pc.settings.set_subscription_key(\"st=2022-06-01T22%3A55%3A32Z&se=2022-06-02T23%3A40%3A32Z&sp=rl&sv=2020-06-12&sr=c&skoid=c85c15d6-d1ae-42d4-af60-e2ca0f81359b&sktid=72f988bf-86f1-41af-91ab-2d7cd011db47&skt=2022-06-02T20%3A23%3A33Z&ske=2022-06-09T20%3A23%3A33Z&sks=b&skv=2020-06-12&sig=U5e1SoZGZqIcunum5BKWcmsVi2bmS1tBsr94LPI%2BLoc%3D\")"
   ]
  },
  {
   "cell_type": "code",
   "execution_count": 52,
   "id": "4d31129c-edc9-4b6e-97bd-d4fb041a6a8d",
   "metadata": {},
   "outputs": [],
   "source": [
    "import pystac_client\n",
    "import planetary_computer\n",
    "\n",
    "catalog = pystac_client.Client.open(\n",
    "    \"https://planetarycomputer.microsoft.com/api/stac/v1\",\n",
    "    modifier=planetary_computer.sign_inplace,\n",
    ")"
   ]
  },
  {
   "cell_type": "code",
   "execution_count": 53,
   "id": "2c78b25f-b854-4bc7-ad28-114d969c9f41",
   "metadata": {},
   "outputs": [
    {
     "name": "stdout",
     "output_type": "stream",
     "text": [
      "{'type': 'Polygon', 'coordinates': [[[-75.28030313034645, 39.867465570687145], [-74.9557457320632, 39.867465570687145], [-74.9557457320632, 40.137927528193686], [-75.28030313034645, 40.137927528193686], [-75.28030313034645, 39.867465570687145]]]}\n"
     ]
    }
   ],
   "source": [
    "import fiona\n",
    "\n",
    "shpfile = 'data/city_limit_4326.shp'\n",
    "\n",
    "lyr = fiona.open(shpfile)\n",
    "for feat in lyr:\n",
    "    area_of_interest_city = feat['geometry']\n",
    "    # print(area_of_interest)\n",
    "\n",
    "left, bottom, right, top = lyr.bounds\n",
    "area_of_interest = {\n",
    "    \"type\": \"Polygon\",\n",
    "    \"coordinates\": [\n",
    "        [\n",
    "            [left, bottom],\n",
    "            [right, bottom],\n",
    "            [right, top],\n",
    "            [left, top],\n",
    "            [left, bottom],\n",
    "        ]\n",
    "    ],\n",
    "}\n",
    "\n",
    "print(area_of_interest)"
   ]
  },
  {
   "cell_type": "code",
   "execution_count": 54,
   "id": "4df25cd7-bbf8-4193-8dbd-0a613cece9aa",
   "metadata": {},
   "outputs": [
    {
     "name": "stdout",
     "output_type": "stream",
     "text": [
      "8 Items found in the 'new' range\n"
     ]
    }
   ],
   "source": [
    "## check on GEE, https://developers.google.com/earth-engine/datasets/catalog/USDA_NAIP_DOQQ\n",
    "range_time = '2021-03-01' + '/' + '2021-10-31'\n",
    "\n",
    "search_new = catalog.search(\n",
    "    collections=[\"noaa-nclimgrid-monthly\"], intersects=area_of_interest, datetime=range_time\n",
    ")\n",
    "\n",
    "items_tiles = search_new.item_collection()\n",
    "\n",
    "print(f\"{len(items_tiles)} Items found in the 'new' range\")"
   ]
  },
  {
   "cell_type": "code",
   "execution_count": 56,
   "id": "52ecae91-2a1a-4650-b98b-e86e49317133",
   "metadata": {},
   "outputs": [
    {
     "name": "stdout",
     "output_type": "stream",
     "text": [
      "https://nclimgridwesteurope.blob.core.windows.net/nclimgrid-cogs/nclimgrid-monthly/nclimgrid-tavg-202110.tif?st=2024-02-23T03%3A21%3A55Z&se=2024-02-24T04%3A06%3A55Z&sp=rl&sv=2021-06-08&sr=c&skoid=c85c15d6-d1ae-42d4-af60-e2ca0f81359b&sktid=72f988bf-86f1-41af-91ab-2d7cd011db47&skt=2024-02-24T03%3A21%3A54Z&ske=2024-03-02T03%3A21%3A54Z&sks=b&skv=2021-06-08&sig=vjzen7Sl7hfnLWFr3CS12iR%2BqTo/UmxyLx7Ky7Nt4lA%3D\n",
      "https://nclimgridwesteurope.blob.core.windows.net/nclimgrid-cogs/nclimgrid-monthly/nclimgrid-tavg-202109.tif?st=2024-02-23T03%3A21%3A55Z&se=2024-02-24T04%3A06%3A55Z&sp=rl&sv=2021-06-08&sr=c&skoid=c85c15d6-d1ae-42d4-af60-e2ca0f81359b&sktid=72f988bf-86f1-41af-91ab-2d7cd011db47&skt=2024-02-24T03%3A21%3A54Z&ske=2024-03-02T03%3A21%3A54Z&sks=b&skv=2021-06-08&sig=vjzen7Sl7hfnLWFr3CS12iR%2BqTo/UmxyLx7Ky7Nt4lA%3D\n",
      "https://nclimgridwesteurope.blob.core.windows.net/nclimgrid-cogs/nclimgrid-monthly/nclimgrid-tavg-202108.tif?st=2024-02-23T03%3A21%3A55Z&se=2024-02-24T04%3A06%3A55Z&sp=rl&sv=2021-06-08&sr=c&skoid=c85c15d6-d1ae-42d4-af60-e2ca0f81359b&sktid=72f988bf-86f1-41af-91ab-2d7cd011db47&skt=2024-02-24T03%3A21%3A54Z&ske=2024-03-02T03%3A21%3A54Z&sks=b&skv=2021-06-08&sig=vjzen7Sl7hfnLWFr3CS12iR%2BqTo/UmxyLx7Ky7Nt4lA%3D\n",
      "https://nclimgridwesteurope.blob.core.windows.net/nclimgrid-cogs/nclimgrid-monthly/nclimgrid-tavg-202107.tif?st=2024-02-23T03%3A21%3A55Z&se=2024-02-24T04%3A06%3A55Z&sp=rl&sv=2021-06-08&sr=c&skoid=c85c15d6-d1ae-42d4-af60-e2ca0f81359b&sktid=72f988bf-86f1-41af-91ab-2d7cd011db47&skt=2024-02-24T03%3A21%3A54Z&ske=2024-03-02T03%3A21%3A54Z&sks=b&skv=2021-06-08&sig=vjzen7Sl7hfnLWFr3CS12iR%2BqTo/UmxyLx7Ky7Nt4lA%3D\n",
      "https://nclimgridwesteurope.blob.core.windows.net/nclimgrid-cogs/nclimgrid-monthly/nclimgrid-tavg-202106.tif?st=2024-02-23T03%3A21%3A55Z&se=2024-02-24T04%3A06%3A55Z&sp=rl&sv=2021-06-08&sr=c&skoid=c85c15d6-d1ae-42d4-af60-e2ca0f81359b&sktid=72f988bf-86f1-41af-91ab-2d7cd011db47&skt=2024-02-24T03%3A21%3A54Z&ske=2024-03-02T03%3A21%3A54Z&sks=b&skv=2021-06-08&sig=vjzen7Sl7hfnLWFr3CS12iR%2BqTo/UmxyLx7Ky7Nt4lA%3D\n",
      "https://nclimgridwesteurope.blob.core.windows.net/nclimgrid-cogs/nclimgrid-monthly/nclimgrid-tavg-202105.tif?st=2024-02-23T03%3A21%3A55Z&se=2024-02-24T04%3A06%3A55Z&sp=rl&sv=2021-06-08&sr=c&skoid=c85c15d6-d1ae-42d4-af60-e2ca0f81359b&sktid=72f988bf-86f1-41af-91ab-2d7cd011db47&skt=2024-02-24T03%3A21%3A54Z&ske=2024-03-02T03%3A21%3A54Z&sks=b&skv=2021-06-08&sig=vjzen7Sl7hfnLWFr3CS12iR%2BqTo/UmxyLx7Ky7Nt4lA%3D\n",
      "https://nclimgridwesteurope.blob.core.windows.net/nclimgrid-cogs/nclimgrid-monthly/nclimgrid-tavg-202104.tif?st=2024-02-23T03%3A21%3A55Z&se=2024-02-24T04%3A06%3A55Z&sp=rl&sv=2021-06-08&sr=c&skoid=c85c15d6-d1ae-42d4-af60-e2ca0f81359b&sktid=72f988bf-86f1-41af-91ab-2d7cd011db47&skt=2024-02-24T03%3A21%3A54Z&ske=2024-03-02T03%3A21%3A54Z&sks=b&skv=2021-06-08&sig=vjzen7Sl7hfnLWFr3CS12iR%2BqTo/UmxyLx7Ky7Nt4lA%3D\n",
      "https://nclimgridwesteurope.blob.core.windows.net/nclimgrid-cogs/nclimgrid-monthly/nclimgrid-tavg-202103.tif?st=2024-02-23T03%3A21%3A55Z&se=2024-02-24T04%3A06%3A55Z&sp=rl&sv=2021-06-08&sr=c&skoid=c85c15d6-d1ae-42d4-af60-e2ca0f81359b&sktid=72f988bf-86f1-41af-91ab-2d7cd011db47&skt=2024-02-24T03%3A21%3A54Z&ske=2024-03-02T03%3A21%3A54Z&sks=b&skv=2021-06-08&sig=vjzen7Sl7hfnLWFr3CS12iR%2BqTo/UmxyLx7Ky7Nt4lA%3D\n"
     ]
    }
   ],
   "source": [
    "outfolder = 'climate-monthly'\n",
    "if not os.path.exists(outfolder): os.mkdir(outfolder)\n",
    "\n",
    "## loop all the intersected tiles and download them all\n",
    "for item in items_tiles:\n",
    "    #href = pc.sign(item.assets[\"image\"].href)\n",
    "    href = item.assets[\"tavg\"].href\n",
    "    print(href)\n",
    "    \n",
    "    outfilename = os.path.join(outfolder, item.id + \".tif\")\n",
    "    urllib.request.urlretrieve(href, outfilename)"
   ]
  },
  {
   "cell_type": "code",
   "execution_count": null,
   "id": "ee13a943-7b34-4d90-a559-ca42ae434e1e",
   "metadata": {},
   "outputs": [],
   "source": []
  }
 ],
 "metadata": {
  "kernelspec": {
   "display_name": "Python 3 (ipykernel)",
   "language": "python",
   "name": "python3"
  },
  "language_info": {
   "codemirror_mode": {
    "name": "ipython",
    "version": 3
   },
   "file_extension": ".py",
   "mimetype": "text/x-python",
   "name": "python",
   "nbconvert_exporter": "python",
   "pygments_lexer": "ipython3",
   "version": "3.9.18"
  }
 },
 "nbformat": 4,
 "nbformat_minor": 5
}
